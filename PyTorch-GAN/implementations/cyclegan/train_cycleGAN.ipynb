{
 "cells": [
  {
   "cell_type": "markdown",
   "metadata": {},
   "source": [
    "# Train cycleGAN"
   ]
  },
  {
   "cell_type": "code",
   "execution_count": 1,
   "metadata": {},
   "outputs": [],
   "source": [
    "%load_ext autoreload\n",
    "%autoreload 2\n",
    "\n",
    "import os\n",
    "import pandas as pd\n",
    "import numpy as np\n",
    "import random\n",
    "import seaborn as sns\n",
    "\n",
    "from numpy.random import seed\n",
    "randomState = 123\n",
    "seed(randomState)"
   ]
  },
  {
   "cell_type": "code",
   "execution_count": 2,
   "metadata": {},
   "outputs": [],
   "source": [
    "# Load arguments\n",
    "data_file = os.path.join(\n",
    "    os.path.dirname(os.path.dirname(os.getcwd())),\n",
    "    \"data\",\"pseudomonas\",\"train\", \"A\", \"all-pseudomonas-gene-normalized.zip\")"
   ]
  },
  {
   "cell_type": "code",
   "execution_count": 3,
   "metadata": {},
   "outputs": [
    {
     "name": "stdout",
     "output_type": "stream",
     "text": [
      "(1191, 5549)\n"
     ]
    },
    {
     "data": {
      "text/html": [
       "<div>\n",
       "<style scoped>\n",
       "    .dataframe tbody tr th:only-of-type {\n",
       "        vertical-align: middle;\n",
       "    }\n",
       "\n",
       "    .dataframe tbody tr th {\n",
       "        vertical-align: top;\n",
       "    }\n",
       "\n",
       "    .dataframe thead th {\n",
       "        text-align: right;\n",
       "    }\n",
       "</style>\n",
       "<table border=\"1\" class=\"dataframe\">\n",
       "  <thead>\n",
       "    <tr style=\"text-align: right;\">\n",
       "      <th>Gene_symbol</th>\n",
       "      <th>PA0001</th>\n",
       "      <th>PA0002</th>\n",
       "      <th>PA0003</th>\n",
       "      <th>PA0004</th>\n",
       "      <th>PA0005</th>\n",
       "      <th>PA0006</th>\n",
       "      <th>PA0007</th>\n",
       "      <th>PA0008</th>\n",
       "      <th>PA0009</th>\n",
       "      <th>PA0010</th>\n",
       "      <th>...</th>\n",
       "      <th>PA5561</th>\n",
       "      <th>PA5562</th>\n",
       "      <th>PA5563</th>\n",
       "      <th>PA5564</th>\n",
       "      <th>PA5565</th>\n",
       "      <th>PA5566</th>\n",
       "      <th>PA5567</th>\n",
       "      <th>PA5568</th>\n",
       "      <th>PA5569</th>\n",
       "      <th>PA5570</th>\n",
       "    </tr>\n",
       "  </thead>\n",
       "  <tbody>\n",
       "    <tr>\n",
       "      <th>0.1_12hr_CSV86(Pae_G1a).CEL</th>\n",
       "      <td>0.472897</td>\n",
       "      <td>0.396658</td>\n",
       "      <td>0.253776</td>\n",
       "      <td>0.000000</td>\n",
       "      <td>0.175640</td>\n",
       "      <td>0.554385</td>\n",
       "      <td>0.411370</td>\n",
       "      <td>0.382222</td>\n",
       "      <td>0.310144</td>\n",
       "      <td>0.642522</td>\n",
       "      <td>...</td>\n",
       "      <td>0.358597</td>\n",
       "      <td>0.390048</td>\n",
       "      <td>0.457406</td>\n",
       "      <td>0.684082</td>\n",
       "      <td>0.338351</td>\n",
       "      <td>0.608325</td>\n",
       "      <td>0.643496</td>\n",
       "      <td>0.276075</td>\n",
       "      <td>0.112773</td>\n",
       "      <td>0.145170</td>\n",
       "    </tr>\n",
       "    <tr>\n",
       "      <th>0.1_2hr_CSV86(Pae_G1a).CEL</th>\n",
       "      <td>0.262346</td>\n",
       "      <td>0.086216</td>\n",
       "      <td>0.359853</td>\n",
       "      <td>0.439214</td>\n",
       "      <td>0.269749</td>\n",
       "      <td>0.768433</td>\n",
       "      <td>0.212505</td>\n",
       "      <td>0.062043</td>\n",
       "      <td>0.567695</td>\n",
       "      <td>0.467073</td>\n",
       "      <td>...</td>\n",
       "      <td>0.358504</td>\n",
       "      <td>0.414206</td>\n",
       "      <td>0.389879</td>\n",
       "      <td>0.477693</td>\n",
       "      <td>0.000000</td>\n",
       "      <td>0.479385</td>\n",
       "      <td>0.154471</td>\n",
       "      <td>0.140891</td>\n",
       "      <td>0.167505</td>\n",
       "      <td>0.157060</td>\n",
       "    </tr>\n",
       "    <tr>\n",
       "      <th>0.1_6hr_CSV86(Pae_G1a).CEL</th>\n",
       "      <td>0.473658</td>\n",
       "      <td>0.244862</td>\n",
       "      <td>0.330750</td>\n",
       "      <td>0.097697</td>\n",
       "      <td>0.387226</td>\n",
       "      <td>0.328319</td>\n",
       "      <td>0.228820</td>\n",
       "      <td>0.330039</td>\n",
       "      <td>0.318081</td>\n",
       "      <td>0.512864</td>\n",
       "      <td>...</td>\n",
       "      <td>0.180744</td>\n",
       "      <td>0.380741</td>\n",
       "      <td>0.173501</td>\n",
       "      <td>0.251571</td>\n",
       "      <td>0.182793</td>\n",
       "      <td>0.528301</td>\n",
       "      <td>0.504985</td>\n",
       "      <td>0.499782</td>\n",
       "      <td>0.061106</td>\n",
       "      <td>0.365612</td>\n",
       "    </tr>\n",
       "    <tr>\n",
       "      <th>0.1_7hr_CSV86(Pae_G1a).CEL</th>\n",
       "      <td>0.439273</td>\n",
       "      <td>0.343402</td>\n",
       "      <td>0.192698</td>\n",
       "      <td>0.274677</td>\n",
       "      <td>0.628979</td>\n",
       "      <td>0.553796</td>\n",
       "      <td>0.431391</td>\n",
       "      <td>0.363480</td>\n",
       "      <td>0.385721</td>\n",
       "      <td>0.094584</td>\n",
       "      <td>...</td>\n",
       "      <td>0.346837</td>\n",
       "      <td>0.153927</td>\n",
       "      <td>0.067349</td>\n",
       "      <td>0.319723</td>\n",
       "      <td>0.282442</td>\n",
       "      <td>0.490655</td>\n",
       "      <td>0.531415</td>\n",
       "      <td>0.153880</td>\n",
       "      <td>0.132333</td>\n",
       "      <td>0.260087</td>\n",
       "    </tr>\n",
       "    <tr>\n",
       "      <th>0.1_9hr_CSV86(Pae_G1a).CEL</th>\n",
       "      <td>0.220827</td>\n",
       "      <td>0.145525</td>\n",
       "      <td>0.437803</td>\n",
       "      <td>0.293201</td>\n",
       "      <td>0.635120</td>\n",
       "      <td>0.462893</td>\n",
       "      <td>0.488733</td>\n",
       "      <td>0.309584</td>\n",
       "      <td>0.318646</td>\n",
       "      <td>0.591914</td>\n",
       "      <td>...</td>\n",
       "      <td>0.237726</td>\n",
       "      <td>0.301945</td>\n",
       "      <td>0.070222</td>\n",
       "      <td>0.513605</td>\n",
       "      <td>0.114277</td>\n",
       "      <td>0.360259</td>\n",
       "      <td>0.386868</td>\n",
       "      <td>0.223995</td>\n",
       "      <td>0.105343</td>\n",
       "      <td>0.102088</td>\n",
       "    </tr>\n",
       "  </tbody>\n",
       "</table>\n",
       "<p>5 rows × 5549 columns</p>\n",
       "</div>"
      ],
      "text/plain": [
       "Gene_symbol                    PA0001    PA0002    PA0003    PA0004    PA0005  \\\n",
       "0.1_12hr_CSV86(Pae_G1a).CEL  0.472897  0.396658  0.253776  0.000000  0.175640   \n",
       "0.1_2hr_CSV86(Pae_G1a).CEL   0.262346  0.086216  0.359853  0.439214  0.269749   \n",
       "0.1_6hr_CSV86(Pae_G1a).CEL   0.473658  0.244862  0.330750  0.097697  0.387226   \n",
       "0.1_7hr_CSV86(Pae_G1a).CEL   0.439273  0.343402  0.192698  0.274677  0.628979   \n",
       "0.1_9hr_CSV86(Pae_G1a).CEL   0.220827  0.145525  0.437803  0.293201  0.635120   \n",
       "\n",
       "Gene_symbol                    PA0006    PA0007    PA0008    PA0009    PA0010  \\\n",
       "0.1_12hr_CSV86(Pae_G1a).CEL  0.554385  0.411370  0.382222  0.310144  0.642522   \n",
       "0.1_2hr_CSV86(Pae_G1a).CEL   0.768433  0.212505  0.062043  0.567695  0.467073   \n",
       "0.1_6hr_CSV86(Pae_G1a).CEL   0.328319  0.228820  0.330039  0.318081  0.512864   \n",
       "0.1_7hr_CSV86(Pae_G1a).CEL   0.553796  0.431391  0.363480  0.385721  0.094584   \n",
       "0.1_9hr_CSV86(Pae_G1a).CEL   0.462893  0.488733  0.309584  0.318646  0.591914   \n",
       "\n",
       "Gene_symbol                    ...       PA5561    PA5562    PA5563    PA5564  \\\n",
       "0.1_12hr_CSV86(Pae_G1a).CEL    ...     0.358597  0.390048  0.457406  0.684082   \n",
       "0.1_2hr_CSV86(Pae_G1a).CEL     ...     0.358504  0.414206  0.389879  0.477693   \n",
       "0.1_6hr_CSV86(Pae_G1a).CEL     ...     0.180744  0.380741  0.173501  0.251571   \n",
       "0.1_7hr_CSV86(Pae_G1a).CEL     ...     0.346837  0.153927  0.067349  0.319723   \n",
       "0.1_9hr_CSV86(Pae_G1a).CEL     ...     0.237726  0.301945  0.070222  0.513605   \n",
       "\n",
       "Gene_symbol                    PA5565    PA5566    PA5567    PA5568    PA5569  \\\n",
       "0.1_12hr_CSV86(Pae_G1a).CEL  0.338351  0.608325  0.643496  0.276075  0.112773   \n",
       "0.1_2hr_CSV86(Pae_G1a).CEL   0.000000  0.479385  0.154471  0.140891  0.167505   \n",
       "0.1_6hr_CSV86(Pae_G1a).CEL   0.182793  0.528301  0.504985  0.499782  0.061106   \n",
       "0.1_7hr_CSV86(Pae_G1a).CEL   0.282442  0.490655  0.531415  0.153880  0.132333   \n",
       "0.1_9hr_CSV86(Pae_G1a).CEL   0.114277  0.360259  0.386868  0.223995  0.105343   \n",
       "\n",
       "Gene_symbol                    PA5570  \n",
       "0.1_12hr_CSV86(Pae_G1a).CEL  0.145170  \n",
       "0.1_2hr_CSV86(Pae_G1a).CEL   0.157060  \n",
       "0.1_6hr_CSV86(Pae_G1a).CEL   0.365612  \n",
       "0.1_7hr_CSV86(Pae_G1a).CEL   0.260087  \n",
       "0.1_9hr_CSV86(Pae_G1a).CEL   0.102088  \n",
       "\n",
       "[5 rows x 5549 columns]"
      ]
     },
     "execution_count": 3,
     "metadata": {},
     "output_type": "execute_result"
    }
   ],
   "source": [
    "# Read in data\n",
    "data = pd.read_table(data_file, header=0, sep='\\t', index_col=0, compression='zip').T\n",
    "original_shape = data.shape\n",
    "print(original_shape)\n",
    "data.head(5)"
   ]
  },
  {
   "cell_type": "code",
   "execution_count": 4,
   "metadata": {
    "scrolled": true
   },
   "outputs": [
    {
     "name": "stdout",
     "output_type": "stream",
     "text": [
      "Namespace(b1=0.5, b2=0.999, batch_size=1, checkpoint_interval=-1, dataset_name='pseudomonas', decay_epoch=100, epoch=0, hidden_dim=1000, input_dim=5549, lambda_cyc=10.0, lambda_id=5.0, lr=0.0002, n_cpu=8, n_epochs=200, n_residual_blocks=1, num_samples=1191, output_dim=100, sample_interval=100)\n",
      "(1191, 5549)\n",
      "<class 'int'>\n",
      "<class 'int'>\n"
     ]
    },
    {
     "ename": "KeyError",
     "evalue": "'Traceback (most recent call last):\\n  File \"/home/alexandra/anaconda3/lib/python3.6/site-packages/pandas/core/indexes/base.py\", line 3063, in get_loc\\n    return self._engine.get_loc(key)\\n  File \"pandas/_libs/index.pyx\", line 140, in pandas._libs.index.IndexEngine.get_loc\\n  File \"pandas/_libs/index.pyx\", line 162, in pandas._libs.index.IndexEngine.get_loc\\n  File \"pandas/_libs/hashtable_class_helper.pxi\", line 1492, in pandas._libs.hashtable.PyObjectHashTable.get_item\\n  File \"pandas/_libs/hashtable_class_helper.pxi\", line 1500, in pandas._libs.hashtable.PyObjectHashTable.get_item\\nKeyError: 5234\\n\\nDuring handling of the above exception, another exception occurred:\\n\\nTraceback (most recent call last):\\n  File \"/home/alexandra/anaconda3/lib/python3.6/site-packages/torch/utils/data/dataloader.py\", line 138, in _worker_loop\\n    samples = collate_fn([dataset[i] for i in batch_indices])\\n  File \"/home/alexandra/anaconda3/lib/python3.6/site-packages/torch/utils/data/dataloader.py\", line 138, in <listcomp>\\n    samples = collate_fn([dataset[i] for i in batch_indices])\\n  File \"/home/alexandra/anaconda3/lib/python3.6/site-packages/pandas/core/frame.py\", line 2685, in __getitem__\\n    return self._getitem_column(key)\\n  File \"/home/alexandra/anaconda3/lib/python3.6/site-packages/pandas/core/frame.py\", line 2692, in _getitem_column\\n    return self._get_item_cache(key)\\n  File \"/home/alexandra/anaconda3/lib/python3.6/site-packages/pandas/core/generic.py\", line 2486, in _get_item_cache\\n    values = self._data.get(item)\\n  File \"/home/alexandra/anaconda3/lib/python3.6/site-packages/pandas/core/internals.py\", line 4115, in get\\n    loc = self.items.get_loc(item)\\n  File \"/home/alexandra/anaconda3/lib/python3.6/site-packages/pandas/core/indexes/base.py\", line 3065, in get_loc\\n    return self._engine.get_loc(self._maybe_cast_indexer(key))\\n  File \"pandas/_libs/index.pyx\", line 140, in pandas._libs.index.IndexEngine.get_loc\\n  File \"pandas/_libs/index.pyx\", line 162, in pandas._libs.index.IndexEngine.get_loc\\n  File \"pandas/_libs/hashtable_class_helper.pxi\", line 1492, in pandas._libs.hashtable.PyObjectHashTable.get_item\\n  File \"pandas/_libs/hashtable_class_helper.pxi\", line 1500, in pandas._libs.hashtable.PyObjectHashTable.get_item\\nKeyError: 5234\\n'",
     "output_type": "error",
     "traceback": [
      "\u001b[0;31m---------------------------------------------------------------------------\u001b[0m",
      "\u001b[0;31mKeyError\u001b[0m                                  Traceback (most recent call last)",
      "\u001b[0;32m~/Documents/Local analysis/Pseudomonas_cycleGAN/PyTorch-GAN/implementations/cyclegan/cyclegan_transcript.py\u001b[0m in \u001b[0;36m<module>\u001b[0;34m()\u001b[0m\n\u001b[1;32m    198\u001b[0m \u001b[0mprev_time\u001b[0m \u001b[0;34m=\u001b[0m \u001b[0mtime\u001b[0m\u001b[0;34m.\u001b[0m\u001b[0mtime\u001b[0m\u001b[0;34m(\u001b[0m\u001b[0;34m)\u001b[0m\u001b[0;34m\u001b[0m\u001b[0m\n\u001b[1;32m    199\u001b[0m \u001b[0;32mfor\u001b[0m \u001b[0mepoch\u001b[0m \u001b[0;32min\u001b[0m \u001b[0mrange\u001b[0m\u001b[0;34m(\u001b[0m\u001b[0mopt\u001b[0m\u001b[0;34m.\u001b[0m\u001b[0mepoch\u001b[0m\u001b[0;34m,\u001b[0m \u001b[0mopt\u001b[0m\u001b[0;34m.\u001b[0m\u001b[0mn_epochs\u001b[0m\u001b[0;34m)\u001b[0m\u001b[0;34m:\u001b[0m\u001b[0;34m\u001b[0m\u001b[0m\n\u001b[0;32m--> 200\u001b[0;31m     \u001b[0;32mfor\u001b[0m \u001b[0mi\u001b[0m\u001b[0;34m,\u001b[0m \u001b[0mbatch\u001b[0m \u001b[0;32min\u001b[0m \u001b[0menumerate\u001b[0m\u001b[0;34m(\u001b[0m\u001b[0mdataloader\u001b[0m\u001b[0;34m)\u001b[0m\u001b[0;34m:\u001b[0m\u001b[0;34m\u001b[0m\u001b[0m\n\u001b[0m\u001b[1;32m    201\u001b[0m \u001b[0;34m\u001b[0m\u001b[0m\n\u001b[1;32m    202\u001b[0m         \u001b[0;31m# Set model input\u001b[0m\u001b[0;34m\u001b[0m\u001b[0;34m\u001b[0m\u001b[0m\n",
      "\u001b[0;32m~/anaconda3/lib/python3.6/site-packages/torch/utils/data/dataloader.py\u001b[0m in \u001b[0;36m__next__\u001b[0;34m(self)\u001b[0m\n\u001b[1;32m    635\u001b[0m                 \u001b[0mself\u001b[0m\u001b[0;34m.\u001b[0m\u001b[0mreorder_dict\u001b[0m\u001b[0;34m[\u001b[0m\u001b[0midx\u001b[0m\u001b[0;34m]\u001b[0m \u001b[0;34m=\u001b[0m \u001b[0mbatch\u001b[0m\u001b[0;34m\u001b[0m\u001b[0m\n\u001b[1;32m    636\u001b[0m                 \u001b[0;32mcontinue\u001b[0m\u001b[0;34m\u001b[0m\u001b[0m\n\u001b[0;32m--> 637\u001b[0;31m             \u001b[0;32mreturn\u001b[0m \u001b[0mself\u001b[0m\u001b[0;34m.\u001b[0m\u001b[0m_process_next_batch\u001b[0m\u001b[0;34m(\u001b[0m\u001b[0mbatch\u001b[0m\u001b[0;34m)\u001b[0m\u001b[0;34m\u001b[0m\u001b[0m\n\u001b[0m\u001b[1;32m    638\u001b[0m \u001b[0;34m\u001b[0m\u001b[0m\n\u001b[1;32m    639\u001b[0m     \u001b[0mnext\u001b[0m \u001b[0;34m=\u001b[0m \u001b[0m__next__\u001b[0m  \u001b[0;31m# Python 2 compatibility\u001b[0m\u001b[0;34m\u001b[0m\u001b[0m\n",
      "\u001b[0;32m~/anaconda3/lib/python3.6/site-packages/torch/utils/data/dataloader.py\u001b[0m in \u001b[0;36m_process_next_batch\u001b[0;34m(self, batch)\u001b[0m\n\u001b[1;32m    656\u001b[0m         \u001b[0mself\u001b[0m\u001b[0;34m.\u001b[0m\u001b[0m_put_indices\u001b[0m\u001b[0;34m(\u001b[0m\u001b[0;34m)\u001b[0m\u001b[0;34m\u001b[0m\u001b[0m\n\u001b[1;32m    657\u001b[0m         \u001b[0;32mif\u001b[0m \u001b[0misinstance\u001b[0m\u001b[0;34m(\u001b[0m\u001b[0mbatch\u001b[0m\u001b[0;34m,\u001b[0m \u001b[0mExceptionWrapper\u001b[0m\u001b[0;34m)\u001b[0m\u001b[0;34m:\u001b[0m\u001b[0;34m\u001b[0m\u001b[0m\n\u001b[0;32m--> 658\u001b[0;31m             \u001b[0;32mraise\u001b[0m \u001b[0mbatch\u001b[0m\u001b[0;34m.\u001b[0m\u001b[0mexc_type\u001b[0m\u001b[0;34m(\u001b[0m\u001b[0mbatch\u001b[0m\u001b[0;34m.\u001b[0m\u001b[0mexc_msg\u001b[0m\u001b[0;34m)\u001b[0m\u001b[0;34m\u001b[0m\u001b[0m\n\u001b[0m\u001b[1;32m    659\u001b[0m         \u001b[0;32mreturn\u001b[0m \u001b[0mbatch\u001b[0m\u001b[0;34m\u001b[0m\u001b[0m\n\u001b[1;32m    660\u001b[0m \u001b[0;34m\u001b[0m\u001b[0m\n",
      "\u001b[0;31mKeyError\u001b[0m: 'Traceback (most recent call last):\\n  File \"/home/alexandra/anaconda3/lib/python3.6/site-packages/pandas/core/indexes/base.py\", line 3063, in get_loc\\n    return self._engine.get_loc(key)\\n  File \"pandas/_libs/index.pyx\", line 140, in pandas._libs.index.IndexEngine.get_loc\\n  File \"pandas/_libs/index.pyx\", line 162, in pandas._libs.index.IndexEngine.get_loc\\n  File \"pandas/_libs/hashtable_class_helper.pxi\", line 1492, in pandas._libs.hashtable.PyObjectHashTable.get_item\\n  File \"pandas/_libs/hashtable_class_helper.pxi\", line 1500, in pandas._libs.hashtable.PyObjectHashTable.get_item\\nKeyError: 5234\\n\\nDuring handling of the above exception, another exception occurred:\\n\\nTraceback (most recent call last):\\n  File \"/home/alexandra/anaconda3/lib/python3.6/site-packages/torch/utils/data/dataloader.py\", line 138, in _worker_loop\\n    samples = collate_fn([dataset[i] for i in batch_indices])\\n  File \"/home/alexandra/anaconda3/lib/python3.6/site-packages/torch/utils/data/dataloader.py\", line 138, in <listcomp>\\n    samples = collate_fn([dataset[i] for i in batch_indices])\\n  File \"/home/alexandra/anaconda3/lib/python3.6/site-packages/pandas/core/frame.py\", line 2685, in __getitem__\\n    return self._getitem_column(key)\\n  File \"/home/alexandra/anaconda3/lib/python3.6/site-packages/pandas/core/frame.py\", line 2692, in _getitem_column\\n    return self._get_item_cache(key)\\n  File \"/home/alexandra/anaconda3/lib/python3.6/site-packages/pandas/core/generic.py\", line 2486, in _get_item_cache\\n    values = self._data.get(item)\\n  File \"/home/alexandra/anaconda3/lib/python3.6/site-packages/pandas/core/internals.py\", line 4115, in get\\n    loc = self.items.get_loc(item)\\n  File \"/home/alexandra/anaconda3/lib/python3.6/site-packages/pandas/core/indexes/base.py\", line 3065, in get_loc\\n    return self._engine.get_loc(self._maybe_cast_indexer(key))\\n  File \"pandas/_libs/index.pyx\", line 140, in pandas._libs.index.IndexEngine.get_loc\\n  File \"pandas/_libs/index.pyx\", line 162, in pandas._libs.index.IndexEngine.get_loc\\n  File \"pandas/_libs/hashtable_class_helper.pxi\", line 1492, in pandas._libs.hashtable.PyObjectHashTable.get_item\\n  File \"pandas/_libs/hashtable_class_helper.pxi\", line 1500, in pandas._libs.hashtable.PyObjectHashTable.get_item\\nKeyError: 5234\\n'"
     ]
    }
   ],
   "source": [
    "%run cyclegan_transcript.py --dataset_name \"pseudomonas\" --input_dim 5549 --hidden_dim 1000 --output_dim 100 --num_samples 1191\n"
   ]
  },
  {
   "cell_type": "code",
   "execution_count": 5,
   "metadata": {},
   "outputs": [
    {
     "data": {
      "text/plain": [
       "'../../data/pseudomonas/train/A/all-pseudomonas-gene-normalized.zip'"
      ]
     },
     "execution_count": 5,
     "metadata": {},
     "output_type": "execute_result"
    }
   ],
   "source": [
    "os.path.join(\"../../data/%s\" % opt.dataset_name +\n",
    "                         \"/train/A/all-pseudomonas-gene-normalized.zip\")"
   ]
  }
 ],
 "metadata": {
  "kernelspec": {
   "display_name": "Python 3",
   "language": "python",
   "name": "python3"
  },
  "language_info": {
   "codemirror_mode": {
    "name": "ipython",
    "version": 3
   },
   "file_extension": ".py",
   "mimetype": "text/x-python",
   "name": "python",
   "nbconvert_exporter": "python",
   "pygments_lexer": "ipython3",
   "version": "3.6.5"
  }
 },
 "nbformat": 4,
 "nbformat_minor": 2
}
