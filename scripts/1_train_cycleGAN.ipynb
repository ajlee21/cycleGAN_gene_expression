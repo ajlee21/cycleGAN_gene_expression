{
 "cells": [
  {
   "cell_type": "markdown",
   "metadata": {},
   "source": [
    "# Train cycleGAN\n",
    "\n",
    "Scripts to train cycleGAN were adopted from the [cycleGAN repository](https://github.com/eriklindernoren/PyTorch-GAN#cyclegan) that were based on the [Unpaired Image-to-Image Translation using Cycle-Consistent Adversarial Networks](https://arxiv.org/pdf/1703.10593.pdf) paper.\n",
    "\n",
    "The scripts were modified to:\n",
    "1. Use fully connected networks as opposed to convoultional neural networks\n",
    "2. Input gene expression data as opposed to image data"
   ]
  },
  {
   "cell_type": "code",
   "execution_count": 1,
   "metadata": {},
   "outputs": [
    {
     "name": "stderr",
     "output_type": "stream",
     "text": [
      "/home/alexandra/anaconda3/envs/pytorch_cyclegan/lib/python3.6/site-packages/matplotlib/__init__.py:886: MatplotlibDeprecationWarning: \n",
      "examples.directory is deprecated; in the future, examples will be found relative to the 'datapath' directory.\n",
      "  \"found relative to the 'datapath' directory.\".format(key))\n"
     ]
    }
   ],
   "source": [
    "%load_ext autoreload\n",
    "%autoreload 2\n",
    "%matplotlib inline\n",
    "\n",
    "import os\n",
    "import pandas as pd\n",
    "import numpy as np\n",
    "import random\n",
    "import seaborn as sns\n",
    "import matplotlib.pyplot as plt\n",
    "\n",
    "from numpy.random import seed\n",
    "randomState = 123\n",
    "seed(randomState)"
   ]
  },
  {
   "cell_type": "code",
   "execution_count": 2,
   "metadata": {},
   "outputs": [],
   "source": [
    "# Load arguments\n",
    "data_file = f\"{os.path.dirname(os.getcwd())}/data/pseudomonas/train_set_normalized.pcl\""
   ]
  },
  {
   "cell_type": "code",
   "execution_count": 3,
   "metadata": {},
   "outputs": [
    {
     "name": "stdout",
     "output_type": "stream",
     "text": [
      "(950, 5549)\n"
     ]
    },
    {
     "data": {
      "text/html": [
       "<div>\n",
       "<style>\n",
       "    .dataframe thead tr:only-child th {\n",
       "        text-align: right;\n",
       "    }\n",
       "\n",
       "    .dataframe thead th {\n",
       "        text-align: left;\n",
       "    }\n",
       "\n",
       "    .dataframe tbody tr th {\n",
       "        vertical-align: top;\n",
       "    }\n",
       "</style>\n",
       "<table border=\"1\" class=\"dataframe\">\n",
       "  <thead>\n",
       "    <tr style=\"text-align: right;\">\n",
       "      <th>Gene_symbol</th>\n",
       "      <th>PA0001</th>\n",
       "      <th>PA0002</th>\n",
       "      <th>PA0003</th>\n",
       "      <th>PA0004</th>\n",
       "      <th>PA0005</th>\n",
       "      <th>PA0006</th>\n",
       "      <th>PA0007</th>\n",
       "      <th>PA0008</th>\n",
       "      <th>PA0009</th>\n",
       "      <th>PA0010</th>\n",
       "      <th>...</th>\n",
       "      <th>PA5561</th>\n",
       "      <th>PA5562</th>\n",
       "      <th>PA5563</th>\n",
       "      <th>PA5564</th>\n",
       "      <th>PA5565</th>\n",
       "      <th>PA5566</th>\n",
       "      <th>PA5567</th>\n",
       "      <th>PA5568</th>\n",
       "      <th>PA5569</th>\n",
       "      <th>PA5570</th>\n",
       "    </tr>\n",
       "  </thead>\n",
       "  <tbody>\n",
       "    <tr>\n",
       "      <th>05_PA14000-4-2_5-10-07_S2.CEL</th>\n",
       "      <td>0.853357</td>\n",
       "      <td>0.725280</td>\n",
       "      <td>0.640617</td>\n",
       "      <td>0.811465</td>\n",
       "      <td>0.694460</td>\n",
       "      <td>0.533958</td>\n",
       "      <td>0.158865</td>\n",
       "      <td>0.889579</td>\n",
       "      <td>0.884945</td>\n",
       "      <td>0.176558</td>\n",
       "      <td>...</td>\n",
       "      <td>0.466871</td>\n",
       "      <td>0.702785</td>\n",
       "      <td>0.790965</td>\n",
       "      <td>0.893249</td>\n",
       "      <td>0.789939</td>\n",
       "      <td>0.164157</td>\n",
       "      <td>0.970470</td>\n",
       "      <td>0.887472</td>\n",
       "      <td>0.900484</td>\n",
       "      <td>0.880012</td>\n",
       "    </tr>\n",
       "    <tr>\n",
       "      <th>54375-4-05.CEL</th>\n",
       "      <td>0.778790</td>\n",
       "      <td>0.767873</td>\n",
       "      <td>0.614859</td>\n",
       "      <td>0.907865</td>\n",
       "      <td>0.398800</td>\n",
       "      <td>0.460849</td>\n",
       "      <td>0.113876</td>\n",
       "      <td>0.761351</td>\n",
       "      <td>0.801740</td>\n",
       "      <td>0.222709</td>\n",
       "      <td>...</td>\n",
       "      <td>0.352020</td>\n",
       "      <td>0.694387</td>\n",
       "      <td>0.733186</td>\n",
       "      <td>0.639074</td>\n",
       "      <td>0.681204</td>\n",
       "      <td>0.110301</td>\n",
       "      <td>0.619554</td>\n",
       "      <td>0.747656</td>\n",
       "      <td>0.749893</td>\n",
       "      <td>0.805374</td>\n",
       "    </tr>\n",
       "    <tr>\n",
       "      <th>AKGlu_plus_nt_7-8-09_s1.CEL</th>\n",
       "      <td>0.789155</td>\n",
       "      <td>0.729508</td>\n",
       "      <td>0.725913</td>\n",
       "      <td>0.718989</td>\n",
       "      <td>0.530160</td>\n",
       "      <td>0.466327</td>\n",
       "      <td>0.079507</td>\n",
       "      <td>0.731643</td>\n",
       "      <td>0.827707</td>\n",
       "      <td>0.241847</td>\n",
       "      <td>...</td>\n",
       "      <td>0.392405</td>\n",
       "      <td>0.700352</td>\n",
       "      <td>0.773422</td>\n",
       "      <td>0.791118</td>\n",
       "      <td>0.931585</td>\n",
       "      <td>0.172570</td>\n",
       "      <td>0.797148</td>\n",
       "      <td>0.753785</td>\n",
       "      <td>0.856253</td>\n",
       "      <td>0.811099</td>\n",
       "    </tr>\n",
       "    <tr>\n",
       "      <th>anaerobic_NO3_1.CEL</th>\n",
       "      <td>0.716320</td>\n",
       "      <td>0.585079</td>\n",
       "      <td>0.390211</td>\n",
       "      <td>0.193248</td>\n",
       "      <td>0.279456</td>\n",
       "      <td>0.301781</td>\n",
       "      <td>0.513547</td>\n",
       "      <td>0.342051</td>\n",
       "      <td>0.415668</td>\n",
       "      <td>0.125914</td>\n",
       "      <td>...</td>\n",
       "      <td>0.398308</td>\n",
       "      <td>0.419574</td>\n",
       "      <td>0.593955</td>\n",
       "      <td>0.527203</td>\n",
       "      <td>0.706524</td>\n",
       "      <td>0.205510</td>\n",
       "      <td>0.504767</td>\n",
       "      <td>0.105662</td>\n",
       "      <td>0.363409</td>\n",
       "      <td>0.544780</td>\n",
       "    </tr>\n",
       "    <tr>\n",
       "      <th>anaerobic_NO3_2.CEL</th>\n",
       "      <td>0.658015</td>\n",
       "      <td>0.592172</td>\n",
       "      <td>0.410331</td>\n",
       "      <td>0.245504</td>\n",
       "      <td>0.312028</td>\n",
       "      <td>0.305852</td>\n",
       "      <td>0.513499</td>\n",
       "      <td>0.336723</td>\n",
       "      <td>0.334226</td>\n",
       "      <td>0.162965</td>\n",
       "      <td>...</td>\n",
       "      <td>0.407801</td>\n",
       "      <td>0.478697</td>\n",
       "      <td>0.571460</td>\n",
       "      <td>0.473054</td>\n",
       "      <td>0.669643</td>\n",
       "      <td>0.155548</td>\n",
       "      <td>0.562927</td>\n",
       "      <td>0.049738</td>\n",
       "      <td>0.388931</td>\n",
       "      <td>0.548814</td>\n",
       "    </tr>\n",
       "  </tbody>\n",
       "</table>\n",
       "<p>5 rows × 5549 columns</p>\n",
       "</div>"
      ],
      "text/plain": [
       "Gene_symbol                      PA0001    PA0002    PA0003    PA0004  \\\n",
       "05_PA14000-4-2_5-10-07_S2.CEL  0.853357  0.725280  0.640617  0.811465   \n",
       "54375-4-05.CEL                 0.778790  0.767873  0.614859  0.907865   \n",
       "AKGlu_plus_nt_7-8-09_s1.CEL    0.789155  0.729508  0.725913  0.718989   \n",
       "anaerobic_NO3_1.CEL            0.716320  0.585079  0.390211  0.193248   \n",
       "anaerobic_NO3_2.CEL            0.658015  0.592172  0.410331  0.245504   \n",
       "\n",
       "Gene_symbol                      PA0005    PA0006    PA0007    PA0008  \\\n",
       "05_PA14000-4-2_5-10-07_S2.CEL  0.694460  0.533958  0.158865  0.889579   \n",
       "54375-4-05.CEL                 0.398800  0.460849  0.113876  0.761351   \n",
       "AKGlu_plus_nt_7-8-09_s1.CEL    0.530160  0.466327  0.079507  0.731643   \n",
       "anaerobic_NO3_1.CEL            0.279456  0.301781  0.513547  0.342051   \n",
       "anaerobic_NO3_2.CEL            0.312028  0.305852  0.513499  0.336723   \n",
       "\n",
       "Gene_symbol                      PA0009    PA0010    ...       PA5561  \\\n",
       "05_PA14000-4-2_5-10-07_S2.CEL  0.884945  0.176558    ...     0.466871   \n",
       "54375-4-05.CEL                 0.801740  0.222709    ...     0.352020   \n",
       "AKGlu_plus_nt_7-8-09_s1.CEL    0.827707  0.241847    ...     0.392405   \n",
       "anaerobic_NO3_1.CEL            0.415668  0.125914    ...     0.398308   \n",
       "anaerobic_NO3_2.CEL            0.334226  0.162965    ...     0.407801   \n",
       "\n",
       "Gene_symbol                      PA5562    PA5563    PA5564    PA5565  \\\n",
       "05_PA14000-4-2_5-10-07_S2.CEL  0.702785  0.790965  0.893249  0.789939   \n",
       "54375-4-05.CEL                 0.694387  0.733186  0.639074  0.681204   \n",
       "AKGlu_plus_nt_7-8-09_s1.CEL    0.700352  0.773422  0.791118  0.931585   \n",
       "anaerobic_NO3_1.CEL            0.419574  0.593955  0.527203  0.706524   \n",
       "anaerobic_NO3_2.CEL            0.478697  0.571460  0.473054  0.669643   \n",
       "\n",
       "Gene_symbol                      PA5566    PA5567    PA5568    PA5569  \\\n",
       "05_PA14000-4-2_5-10-07_S2.CEL  0.164157  0.970470  0.887472  0.900484   \n",
       "54375-4-05.CEL                 0.110301  0.619554  0.747656  0.749893   \n",
       "AKGlu_plus_nt_7-8-09_s1.CEL    0.172570  0.797148  0.753785  0.856253   \n",
       "anaerobic_NO3_1.CEL            0.205510  0.504767  0.105662  0.363409   \n",
       "anaerobic_NO3_2.CEL            0.155548  0.562927  0.049738  0.388931   \n",
       "\n",
       "Gene_symbol                      PA5570  \n",
       "05_PA14000-4-2_5-10-07_S2.CEL  0.880012  \n",
       "54375-4-05.CEL                 0.805374  \n",
       "AKGlu_plus_nt_7-8-09_s1.CEL    0.811099  \n",
       "anaerobic_NO3_1.CEL            0.544780  \n",
       "anaerobic_NO3_2.CEL            0.548814  \n",
       "\n",
       "[5 rows x 5549 columns]"
      ]
     },
     "execution_count": 3,
     "metadata": {},
     "output_type": "execute_result"
    }
   ],
   "source": [
    "# Read in data\n",
    "data = pd.read_table(data_file, header=0, sep='\\t', index_col=0).T\n",
    "original_shape = data.shape\n",
    "print(original_shape)\n",
    "data.head(5)"
   ]
  },
  {
   "cell_type": "markdown",
   "metadata": {},
   "source": [
    "## Train"
   ]
  },
  {
   "cell_type": "code",
   "execution_count": 4,
   "metadata": {
    "scrolled": true
   },
   "outputs": [
    {
     "ename": "SyntaxError",
     "evalue": "invalid syntax (cyclegan_transcript.py, line 203)",
     "output_type": "error",
     "traceback": [
      "\u001b[0;36m  File \u001b[0;32m\"/home/alexandra/Documents/Repos/cycleGAN_gene_expression/scripts/functions/cyclegan_transcript.py\"\u001b[0;36m, line \u001b[0;32m203\u001b[0m\n\u001b[0;31m    , opt.n_epochs):\u001b[0m\n\u001b[0m    ^\u001b[0m\n\u001b[0;31mSyntaxError\u001b[0m\u001b[0;31m:\u001b[0m invalid syntax\n"
     ]
    }
   ],
   "source": [
    "%run functions/cyclegan_transcript.py --dataset_name \"pseudomonas\" --n_epochs 100 --decay_epoch 50 --input_dim 5549 --hidden_dim 1000 --output_dim 100 --num_samples 1191 --batch_size 100"
   ]
  },
  {
   "cell_type": "markdown",
   "metadata": {},
   "source": [
    "## Plot"
   ]
  },
  {
   "cell_type": "code",
   "execution_count": 5,
   "metadata": {},
   "outputs": [],
   "source": [
    "# Read in loss files\n",
    "G_loss_file = os.path.join(\n",
    "    os.path.dirname(os.getcwd()),\n",
    "    \"data\",\"pseudomonas\",\"train\", \"G_loss.txt\")\n",
    "\n",
    "D_loss_file = os.path.join(\n",
    "    os.path.dirname(os.getcwd()),\n",
    "    \"data\",\"pseudomonas\",\"train\",\"D_loss.txt\")\n",
    "\n",
    "G_loss_data = pd.read_csv(G_loss_file, header=None, sep=',').T\n",
    "D_loss_data = pd.read_csv(D_loss_file, header=None, sep=',').T"
   ]
  },
  {
   "cell_type": "code",
   "execution_count": 6,
   "metadata": {},
   "outputs": [
    {
     "data": {
      "text/html": [
       "<div>\n",
       "<style>\n",
       "    .dataframe thead tr:only-child th {\n",
       "        text-align: right;\n",
       "    }\n",
       "\n",
       "    .dataframe thead th {\n",
       "        text-align: left;\n",
       "    }\n",
       "\n",
       "    .dataframe tbody tr th {\n",
       "        vertical-align: top;\n",
       "    }\n",
       "</style>\n",
       "<table border=\"1\" class=\"dataframe\">\n",
       "  <thead>\n",
       "    <tr style=\"text-align: right;\">\n",
       "      <th></th>\n",
       "      <th>0</th>\n",
       "    </tr>\n",
       "  </thead>\n",
       "  <tbody>\n",
       "    <tr>\n",
       "      <th>0</th>\n",
       "      <td>2.168067</td>\n",
       "    </tr>\n",
       "    <tr>\n",
       "      <th>1</th>\n",
       "      <td>2.059068</td>\n",
       "    </tr>\n",
       "    <tr>\n",
       "      <th>2</th>\n",
       "      <td>2.137397</td>\n",
       "    </tr>\n",
       "    <tr>\n",
       "      <th>3</th>\n",
       "      <td>2.114904</td>\n",
       "    </tr>\n",
       "    <tr>\n",
       "      <th>4</th>\n",
       "      <td>2.114356</td>\n",
       "    </tr>\n",
       "  </tbody>\n",
       "</table>\n",
       "</div>"
      ],
      "text/plain": [
       "          0\n",
       "0  2.168067\n",
       "1  2.059068\n",
       "2  2.137397\n",
       "3  2.114904\n",
       "4  2.114356"
      ]
     },
     "execution_count": 6,
     "metadata": {},
     "output_type": "execute_result"
    }
   ],
   "source": [
    "G_loss_data.head(5)"
   ]
  },
  {
   "cell_type": "code",
   "execution_count": 7,
   "metadata": {},
   "outputs": [
    {
     "data": {
      "text/html": [
       "<div>\n",
       "<style>\n",
       "    .dataframe thead tr:only-child th {\n",
       "        text-align: right;\n",
       "    }\n",
       "\n",
       "    .dataframe thead th {\n",
       "        text-align: left;\n",
       "    }\n",
       "\n",
       "    .dataframe tbody tr th {\n",
       "        vertical-align: top;\n",
       "    }\n",
       "</style>\n",
       "<table border=\"1\" class=\"dataframe\">\n",
       "  <thead>\n",
       "    <tr style=\"text-align: right;\">\n",
       "      <th></th>\n",
       "      <th>0</th>\n",
       "    </tr>\n",
       "  </thead>\n",
       "  <tbody>\n",
       "    <tr>\n",
       "      <th>0</th>\n",
       "      <td>0.293328</td>\n",
       "    </tr>\n",
       "    <tr>\n",
       "      <th>1</th>\n",
       "      <td>0.264847</td>\n",
       "    </tr>\n",
       "    <tr>\n",
       "      <th>2</th>\n",
       "      <td>0.250569</td>\n",
       "    </tr>\n",
       "    <tr>\n",
       "      <th>3</th>\n",
       "      <td>0.252401</td>\n",
       "    </tr>\n",
       "    <tr>\n",
       "      <th>4</th>\n",
       "      <td>0.245855</td>\n",
       "    </tr>\n",
       "  </tbody>\n",
       "</table>\n",
       "</div>"
      ],
      "text/plain": [
       "          0\n",
       "0  0.293328\n",
       "1  0.264847\n",
       "2  0.250569\n",
       "3  0.252401\n",
       "4  0.245855"
      ]
     },
     "execution_count": 7,
     "metadata": {},
     "output_type": "execute_result"
    }
   ],
   "source": [
    "D_loss_data.head(5)"
   ]
  },
  {
   "cell_type": "code",
   "execution_count": 8,
   "metadata": {},
   "outputs": [
    {
     "data": {
      "image/png": "[encoded data removed]",
      "text/plain": [
       "<Figure size 432x288 with 1 Axes>"
      ]
     },
     "metadata": {},
     "output_type": "display_data"
    }
   ],
   "source": [
    "# Generator loss\n",
    "G_loss_out_file = os.path.join(\n",
    "    os.path.dirname(os.getcwd()),\n",
    "    \"output\",\"viz\", \"G_loss_plot.jpg\")\n",
    "\n",
    "fig = plt.figure()\n",
    "plt.plot(G_loss_data.index, G_loss_data.values)\n",
    "fig.suptitle('Generator Loss', fontsize=20)\n",
    "plt.xlabel('Epochs')\n",
    "plt.ylabel('Generator Loss')\n",
    "fig.savefig(G_loss_out_file)"
   ]
  },
  {
   "cell_type": "code",
   "execution_count": 9,
   "metadata": {},
   "outputs": [
    {
     "data": {
      "image/png": "[encoded data removed]",
      "text/plain": [
       "<Figure size 432x288 with 1 Axes>"
      ]
     },
     "metadata": {},
     "output_type": "display_data"
    }
   ],
   "source": [
    "# Discriminator loss\n",
    "D_loss_out_file = os.path.join(\n",
    "    os.path.dirname(os.getcwd()),\n",
    "    \"output\",\"viz\",\"D_loss_plot.jpg\")\n",
    "\n",
    "fig = plt.figure()\n",
    "plt.plot(D_loss_data.index, D_loss_data.values)\n",
    "fig.suptitle('Discriminator Loss', fontsize=20)\n",
    "plt.xlabel('Epochs')\n",
    "plt.ylabel('Discriminator Loss')\n",
    "fig.savefig(D_loss_out_file)"
   ]
  }
 ],
 "metadata": {
  "kernelspec": {
   "display_name": "Python 3",
   "language": "python",
   "name": "python3"
  },
  "language_info": {
   "codemirror_mode": {
    "name": "ipython",
    "version": 3
   },
   "file_extension": ".py",
   "mimetype": "text/x-python",
   "name": "python",
   "nbconvert_exporter": "python",
   "pygments_lexer": "ipython3",
   "version": "3.6.5"
  }
 },
 "nbformat": 4,
 "nbformat_minor": 2
}
